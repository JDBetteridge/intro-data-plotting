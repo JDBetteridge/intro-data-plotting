{
 "cells": [
  {
   "cell_type": "markdown",
   "metadata": {
    "slideshow": {
     "slide_type": "slide"
    }
   },
   "source": [
    "# Remote builds"
   ]
  },
  {
   "cell_type": "markdown",
   "metadata": {
    "slideshow": {
     "slide_type": "slide"
    }
   },
   "source": [
    "## Overview\n",
    "- **Teaching:** 15 min\n",
    "- **Exercises:** 0 min\n",
    "\n",
    "**Questions**\n",
    "- How do I make my lesson available online?\n",
    "\n",
    "**Objectives**\n",
    "- Know how to set-up automatic online provision on update of lessson."
   ]
  },
  {
   "cell_type": "markdown",
   "metadata": {},
   "source": [
    "```brainfuck\n",
    "this is just plain text don't markup!\n",
    "for\n",
    "ls\n",
    "&\n",
    "in\n",
    "```"
   ]
  },
  {
   "cell_type": "markdown",
   "metadata": {
    "slideshow": {
     "slide_type": "slide"
    }
   },
   "source": [
    "## Key Points\n",
    "- You can deploy an `html` rendering of your lesson on github pages."
   ]
  }
 ],
 "metadata": {
  "celltoolbar": "Slideshow",
  "kernelspec": {
   "display_name": "Python 3",
   "language": "python",
   "name": "python3"
  },
  "language_info": {
   "codemirror_mode": {
    "name": "ipython",
    "version": 3
   },
   "file_extension": ".py",
   "mimetype": "text/x-python",
   "name": "python",
   "nbconvert_exporter": "python",
   "pygments_lexer": "ipython3",
   "version": "3.7.0"
  }
 },
 "nbformat": 4,
 "nbformat_minor": 2
}
