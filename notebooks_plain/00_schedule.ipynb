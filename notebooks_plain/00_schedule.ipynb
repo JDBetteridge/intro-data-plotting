{
 "cells": [
  {
   "cell_type": "markdown",
   "metadata": {
    "slideshow": {
     "slide_type": "slide"
    }
   },
   "source": [
    "# Introduction to working with data and plotting\n",
    "\n",
    "This lesson introduces some techniques for working with data sets and producing plots. It covers:\n",
    "* A brief introduction to notebooks\n",
    "* Introduction to `numpy`\n",
    "* Introduction to `pandas`\n",
    "* Introduction to `matplotlib`"
   ]
  },
  {
   "cell_type": "markdown",
   "metadata": {
    "slideshow": {
     "slide_type": "slide"
    }
   },
   "source": [
    "## Prerequisites\n",
    "\n",
    "In order to complete the lesson you should be familar with the content of the course:\n",
    "* Introduction to Python"
   ]
  },
  {
   "cell_type": "markdown",
   "metadata": {
    "slideshow": {
     "slide_type": "slide"
    }
   },
   "source": [
    "## Schedule\n",
    "Approximate timings for the lesson:\n",
    "\n",
    "| Time | Episode | Description |\n",
    "|---|---|---|\n",
    "| 0:00 | [01](./00_setup.ipynb) |  |\n",
    "| 0:10 | [01](./01_jupyter.ipynb) |  |\n",
    "| 0:15 | [02](./02_episode.ipynb) |  |\n",
    "| 0:30 | [03](./03_episode.ipynb) |  |\n",
    "| 0:45 | [04](./04_episode.ipynb) |  |"
   ]
  },
  {
   "cell_type": "markdown",
   "metadata": {
    "slideshow": {
     "slide_type": "subslide"
    }
   },
   "source": [
    "Terms and conditions may apply, instuctors may go too fast, wheels might fall off etc, etc..."
   ]
  }
 ],
 "metadata": {
  "celltoolbar": "Slideshow",
  "kernelspec": {
   "display_name": "Python 3",
   "language": "python",
   "name": "python3"
  },
  "language_info": {
   "codemirror_mode": {
    "name": "ipython",
    "version": 3
   },
   "file_extension": ".py",
   "mimetype": "text/x-python",
   "name": "python",
   "nbconvert_exporter": "python",
   "pygments_lexer": "ipython3",
   "version": "3.7.1"
  }
 },
 "nbformat": 4,
 "nbformat_minor": 2
}
