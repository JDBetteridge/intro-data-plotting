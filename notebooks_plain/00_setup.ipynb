{
 "cells": [
  {
   "cell_type": "markdown",
   "metadata": {},
   "source": [
    "# Setup"
   ]
  },
  {
   "cell_type": "markdown",
   "metadata": {},
   "source": [
    "This lesson will introduce Jupyter notebooks which you can install on your own device as part of the [Anaconda](https://www.anaconda.com/download/) distribution (for Python 3.7!).  This also gives access to many scientific libraries for Python and other utilities such as the Spyder IDE.  Anaconda is also available of University PCs.  We will open it with the following:\n",
    "\n",
    "Windows Start button -> Anaconda3 -> Jupyter Notebook\n",
    "\n",
    "You will need to download some data files during the lesson, but links are provided when these are required."
   ]
  }
 ],
 "metadata": {
  "kernelspec": {
   "display_name": "Python 3",
   "language": "python",
   "name": "python3"
  },
  "language_info": {
   "codemirror_mode": {
    "name": "ipython",
    "version": 3
   },
   "file_extension": ".py",
   "mimetype": "text/x-python",
   "name": "python",
   "nbconvert_exporter": "python",
   "pygments_lexer": "ipython3",
   "version": "3.6.6"
  }
 },
 "nbformat": 4,
 "nbformat_minor": 2
}
